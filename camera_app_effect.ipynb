{
 "cells": [
  {
   "cell_type": "markdown",
   "id": "bd68c776",
   "metadata": {},
   "source": [
    "# 카메라 앱에 당황한 표정 효과를 적용해보기\n",
    "------------------"
   ]
  },
  {
   "cell_type": "markdown",
   "id": "924f3b56",
   "metadata": {},
   "source": [
    "## 1. 이론 시간에 다룬 모델을 참고하여 딥러닝 모델을 설계해 봅시다."
   ]
  },
  {
   "cell_type": "code",
   "execution_count": null,
   "id": "df4adf56",
   "metadata": {},
   "outputs": [],
   "source": []
  }
 ],
 "metadata": {
  "kernelspec": {
   "display_name": "aiffel",
   "language": "python",
   "name": "aiffel"
  },
  "language_info": {
   "codemirror_mode": {
    "name": "ipython",
    "version": 3
   },
   "file_extension": ".py",
   "mimetype": "text/x-python",
   "name": "python",
   "nbconvert_exporter": "python",
   "pygments_lexer": "ipython3",
   "version": "3.7.10"
  }
 },
 "nbformat": 4,
 "nbformat_minor": 5
}
