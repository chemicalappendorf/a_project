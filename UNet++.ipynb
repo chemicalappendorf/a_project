{
 "cells": [
  {
   "cell_type": "markdown",
   "id": "27f1aff0",
   "metadata": {},
   "source": [
    "# 개선된 U-Net 모델 만들기\n",
    "------"
   ]
  },
  {
   "cell_type": "markdown",
   "id": "a5fe9e48",
   "metadata": {},
   "source": [
    "## Step 1. KITTI 데이터셋 수집과 구축"
   ]
  },
  {
   "cell_type": "code",
   "execution_count": null,
   "id": "a5eb1e9b",
   "metadata": {},
   "outputs": [],
   "source": []
  }
 ],
 "metadata": {
  "kernelspec": {
   "display_name": "aiffel",
   "language": "python",
   "name": "aiffel"
  },
  "language_info": {
   "codemirror_mode": {
    "name": "ipython",
    "version": 3
   },
   "file_extension": ".py",
   "mimetype": "text/x-python",
   "name": "python",
   "nbconvert_exporter": "python",
   "pygments_lexer": "ipython3",
   "version": "3.7.10"
  }
 },
 "nbformat": 4,
 "nbformat_minor": 5
}
