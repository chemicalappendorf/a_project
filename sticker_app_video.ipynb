{
 "cells": [
  {
   "cell_type": "markdown",
   "id": "1633f72d",
   "metadata": {},
   "source": [
    "# 카메라 스티커앱이 동영상을 처리할 수 있도록 개선하는 프로젝트\n",
    "-----------------------"
   ]
  },
  {
   "cell_type": "markdown",
   "id": "b6b2a2fc",
   "metadata": {},
   "source": [
    "## (1) moviepy로 비디오 처리하기"
   ]
  },
  {
   "cell_type": "code",
   "execution_count": null,
   "id": "e162cc49",
   "metadata": {},
   "outputs": [],
   "source": []
  }
 ],
 "metadata": {
  "kernelspec": {
   "display_name": "aiffel",
   "language": "python",
   "name": "aiffel"
  },
  "language_info": {
   "codemirror_mode": {
    "name": "ipython",
    "version": 3
   },
   "file_extension": ".py",
   "mimetype": "text/x-python",
   "name": "python",
   "nbconvert_exporter": "python",
   "pygments_lexer": "ipython3",
   "version": "3.7.10"
  }
 },
 "nbformat": 4,
 "nbformat_minor": 5
}
