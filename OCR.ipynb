{
 "cells": [
  {
   "cell_type": "markdown",
   "id": "3093794f",
   "metadata": {},
   "source": [
    "# End-to-End OCR\n",
    "----------"
   ]
  },
  {
   "cell_type": "markdown",
   "id": "c95e2216",
   "metadata": {},
   "source": [
    "## 데이터 다운로드(로컬 유저용)"
   ]
  },
  {
   "cell_type": "code",
   "execution_count": null,
   "id": "e4436608",
   "metadata": {},
   "outputs": [],
   "source": []
  }
 ],
 "metadata": {
  "kernelspec": {
   "display_name": "aiffel",
   "language": "python",
   "name": "aiffel"
  },
  "language_info": {
   "codemirror_mode": {
    "name": "ipython",
    "version": 3
   },
   "file_extension": ".py",
   "mimetype": "text/x-python",
   "name": "python",
   "nbconvert_exporter": "python",
   "pygments_lexer": "ipython3",
   "version": "3.7.10"
  }
 },
 "nbformat": 4,
 "nbformat_minor": 5
}
