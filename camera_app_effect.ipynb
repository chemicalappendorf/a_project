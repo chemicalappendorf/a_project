{
 "cells": [
  {
   "cell_type": "markdown",
   "id": "23d2ff36",
   "metadata": {},
   "source": [
    "# 카메라 앱에 당황한 표정 효과를 적용해보기\n",
    "------------------"
   ]
  },
  {
   "cell_type": "markdown",
   "id": "559c070e",
   "metadata": {},
   "source": [
    "## 1. 이론 시간에 다룬 모델을 참고하여 딥러닝 모델을 설계해 봅시다."
   ]
  },
  {
   "cell_type": "code",
   "execution_count": 1,
   "id": "932aa4e2",
   "metadata": {},
   "outputs": [
    {
     "name": "stderr",
     "output_type": "stream",
     "text": [
      "usage: ipykernel_launcher.py [-h] [img_path]\n",
      "ipykernel_launcher.py: error: unrecognized arguments: -f\n"
     ]
    },
    {
     "ename": "SystemExit",
     "evalue": "2",
     "output_type": "error",
     "traceback": [
      "An exception has occurred, use %tb to see the full traceback.\n",
      "\u001b[0;31mSystemExit\u001b[0m\u001b[0;31m:\u001b[0m 2\n"
     ]
    },
    {
     "name": "stderr",
     "output_type": "stream",
     "text": [
      "/home/aiffel/anaconda3/envs/aiffel/lib/python3.7/site-packages/IPython/core/interactiveshell.py:3445: UserWarning: To exit: use 'exit', 'quit', or Ctrl-D.\n",
      "  warn(\"To exit: use 'exit', 'quit', or Ctrl-D.\", stacklevel=1)\n"
     ]
    }
   ],
   "source": [
    "import os\n",
    "from os.path import join\n",
    "from glob import glob\n",
    "import cv2\n",
    "import argparse\n",
    "import numpy as np\n",
    "import json\n",
    "from pprint import pprint\n",
    "\n",
    "args = argparse.ArgumentParser()\n",
    "\n",
    "# hyperparameters\n",
    "args.add_argument('img_path', type=str, nargs='?', default=None)\n",
    "\n",
    "config = args.parse_args()\n",
    "\n",
    "flg_button = False"
   ]
  },
  {
   "cell_type": "code",
   "execution_count": null,
   "id": "b5dcbaa0",
   "metadata": {},
   "outputs": [],
   "source": []
  }
 ],
 "metadata": {
  "kernelspec": {
   "display_name": "aiffel",
   "language": "python",
   "name": "aiffel"
  },
  "language_info": {
   "codemirror_mode": {
    "name": "ipython",
    "version": 3
   },
   "file_extension": ".py",
   "mimetype": "text/x-python",
   "name": "python",
   "nbconvert_exporter": "python",
   "pygments_lexer": "ipython3",
   "version": "3.7.10"
  }
 },
 "nbformat": 4,
 "nbformat_minor": 5
}
